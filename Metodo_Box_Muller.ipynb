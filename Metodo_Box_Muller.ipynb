{
  "nbformat": 4,
  "nbformat_minor": 0,
  "metadata": {
    "colab": {
      "provenance": [],
      "authorship_tag": "ABX9TyOQCysJyIQDd/eWxzWHehDK",
      "include_colab_link": true
    },
    "kernelspec": {
      "name": "python3",
      "display_name": "Python 3"
    },
    "language_info": {
      "name": "python"
    }
  },
  "cells": [
    {
      "cell_type": "markdown",
      "metadata": {
        "id": "view-in-github",
        "colab_type": "text"
      },
      "source": [
        "<a href=\"https://colab.research.google.com/github/JennyferSRodriguezH/Simulacion-I/blob/main/Metodo_Box_Muller.ipynb\" target=\"_parent\"><img src=\"https://colab.research.google.com/assets/colab-badge.svg\" alt=\"Open In Colab\"/></a>"
      ]
    },
    {
      "cell_type": "markdown",
      "source": [
        "De acuerdo con el articulo **A note on the generation of random normal deviates** la creacion de los números aleatorios puden ser generados por una variedad de métodos, el proposito es proporcionar un nuevo método para la creacion de los némeros o variables aleatorias independientes con una escala pequeña o grande."
      ],
      "metadata": {
        "id": "ZLHtJMqux9QH"
      }
    },
    {
      "cell_type": "code",
      "execution_count": 2,
      "metadata": {
        "id": "chXySXk-AJHA"
      },
      "outputs": [],
      "source": [
        "import matplotlib.pyplot as plt\n",
        "import numpy as np\n",
        "import random as rd"
      ]
    },
    {
      "cell_type": "markdown",
      "source": [
        "Para nuestro primer paso se sugiere una aproximacion que pueda generar una par de numeros aleatorios en la misma distribucion normal. Siendo $U_1$ y $U_2$ variables aleatorias independientes que son dentro del mismo rectangulo que determina la funcion de densidad en el intervalo (0,1)."
      ],
      "metadata": {
        "id": "yjDwMuGgzhru"
      }
    },
    {
      "cell_type": "code",
      "source": [
        "def metodo(n):\n",
        "  lista=[] #iniciamos una lista vacia\n",
        "  for _ in range(n):\n",
        "      U1 = np.random.rand()\n",
        "      U2 = np.random.rand()\n",
        "\n",
        "      R = np.sqrt(-2*np.log(U1))\n",
        "      T = 2*np.pi*U2\n",
        "\n",
        "      X = R*np.cos(T)\n",
        "      Y = R*np.sin(T)\n",
        "\n",
        "      lista.append(X)\n",
        "      lista.append(Y)\n",
        "\n",
        "  return lista"
      ],
      "metadata": {
        "id": "CvW4n565Ar6r"
      },
      "execution_count": 3,
      "outputs": []
    },
    {
      "cell_type": "markdown",
      "source": [
        "Entonces los numeros aleatorios son un par de variables independientes:\n",
        "\n",
        "\n",
        "1.   $X = (-2 \\log_e U_1)^\\frac{1}{2} cos(2 π U_2)$\n",
        "2.   $Y = (-2 \\log_e U_1)^\\frac{1}{2} sin(2 π U_2)$\n",
        "\n",
        "Una forma de justificar esto, es aplicar el metodo de la inversa a nuestras variables $X$ y $Y$ que nos daria de resultado:\n",
        "\n",
        "\n",
        "*   $U_1 = e \\frac{-(X^{2} + Y^{2})}{2}$\n",
        "*   $U_2 = -\\frac{1}{2π} arctan\\frac{Y}{X}$\n",
        "\n",
        "Si seguimos la densidad conjunta de estas variables, podemos obtener una funcion que nos incluye la independencia de X y Y.\n",
        "\n",
        "$f(X, Y) = \\frac{1}{2\\pi}e\\frac{-(X + Y)}{2} = \\frac{1}{\\sqrt{2\\pi}} e\\frac{-X^2}{2} ⋅\\frac{1}{\\sqrt{2\\pi}} e \\frac{-Y^2}{2} = f(X) f(Y) $\n",
        "\n",
        "El enfoque anterior toma en consideracion: la probabilidad de la densidad de $f(X) f(Y)$ que esta constantemente en circulos y esta uniformemente distribuido en $(0,2\\pi)$. Si consideramos a $U$ con una densidad rectangular con dos grados de libertad en el intervalo (0,1), entonces la distribucion que U tiene con respecto a la Chi-cuadrada es de $-2log_{e}$ . Con este procedimiento de manera inversa, podemos llegar a las ecuaciones 1 y 2."
      ],
      "metadata": {
        "id": "0Hdy7OhW1C8t"
      }
    },
    {
      "cell_type": "markdown",
      "source": [
        "Con la distribucion con Chi-cuadrada ademas de aportarnos grados de libertad que nos ayuda a determinar la forma de la distribucion en una desviacion generada por el metodo anterior. Las desviaciones de F y la distribucion son obtenidas al calcuar de manera apropiada relacion de las desviaciones generadas.  "
      ],
      "metadata": {
        "id": "BSYmAI2Y-_-z"
      }
    },
    {
      "cell_type": "code",
      "source": [
        "resultado=metodo(1000)\n"
      ],
      "metadata": {
        "id": "rQfVTpKoDAU6"
      },
      "execution_count": 4,
      "outputs": []
    },
    {
      "cell_type": "code",
      "source": [
        "plt.hist(resultado, bins = 20)\n",
        "plt.show()"
      ],
      "metadata": {
        "colab": {
          "base_uri": "https://localhost:8080/",
          "height": 430
        },
        "id": "6xK7wWrUGzB6",
        "outputId": "845384f9-cc79-494b-e488-173583d5a3eb"
      },
      "execution_count": 6,
      "outputs": [
        {
          "output_type": "display_data",
          "data": {
            "text/plain": [
              "<Figure size 640x480 with 1 Axes>"
            ],
            "image/png": "[encoded data removed]"
          },
          "metadata": {}
        }
      ]
    },
    {
      "cell_type": "markdown",
      "source": [
        "Este metodo sugiere una una forma confiable de generar una manera de general desviaciones que puedan ser confiables en las colas de la distribucion. Desde el uso de las librerias de los programas como la evaluacion de funciones trigonometricas, logaritmicas, aun cuando estos requieran una pequeña maquina adicional para ejecutarlas."
      ],
      "metadata": {
        "id": "KoWa-mSAAekE"
      }
    }
  ]
}