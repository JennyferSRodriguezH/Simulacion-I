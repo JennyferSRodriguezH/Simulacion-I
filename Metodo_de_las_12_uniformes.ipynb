{
  "nbformat": 4,
  "nbformat_minor": 0,
  "metadata": {
    "colab": {
      "provenance": [],
      "authorship_tag": "ABX9TyM7VEuHODjkEBOnW+67bq6b",
      "include_colab_link": true
    },
    "kernelspec": {
      "name": "python3",
      "display_name": "Python 3"
    },
    "language_info": {
      "name": "python"
    }
  },
  "cells": [
    {
      "cell_type": "markdown",
      "metadata": {
        "id": "view-in-github",
        "colab_type": "text"
      },
      "source": [
        "<a href=\"https://colab.research.google.com/github/JennyferSRodriguezH/Simulacion-I/blob/main/Metodo_de_las_12_uniformes.ipynb\" target=\"_parent\"><img src=\"https://colab.research.google.com/assets/colab-badge.svg\" alt=\"Open In Colab\"/></a>"
      ]
    },
    {
      "cell_type": "markdown",
      "source": [
        "Definimos las librerias\n"
      ],
      "metadata": {
        "id": "m4m2m3i7DI4s"
      }
    },
    {
      "cell_type": "code",
      "execution_count": 1,
      "metadata": {
        "id": "gY8w4VfW6hCO"
      },
      "outputs": [],
      "source": [
        "import matplotlib.pyplot as plt\n",
        "import numpy as np\n",
        "import random as rd"
      ]
    },
    {
      "cell_type": "markdown",
      "source": [
        "Seleccionamos los valores necesarios para la media y la varianza, en este caso nuestros valores seran:\n",
        " μ = 6 y σ=3\n"
      ],
      "metadata": {
        "id": "srvXc2fKEf6q"
      }
    },
    {
      "cell_type": "code",
      "source": [
        "m=6\n",
        "o=3"
      ],
      "metadata": {
        "id": "Di1FciP36pqu"
      },
      "execution_count": 43,
      "outputs": []
    },
    {
      "cell_type": "markdown",
      "source": [
        "Hacemos la funcion que nos ayudara a resolver la ecuacion de $Z=∑_{i=1}\n",
        "^{12} R_i - 6$ y\n",
        " $X = μ + σ(∑_{i=1}^{12} R_i - 6 )$\n",
        "\n",
        "\n"
      ],
      "metadata": {
        "id": "HZuQpBULFE17"
      }
    },
    {
      "cell_type": "code",
      "source": [
        "def metodo(n):\n",
        "  lista=[] #iniciamos una lista vacia\n",
        "  for _ in range(n):\n",
        "    suma=0 #esta otra lista nos ayudara a guardar los datos de las variables aleatorias y nos ayudara a calcular a Z\n",
        "    for _ in range(12):  #definimos nestro limite\n",
        "      R = rd.random()\n",
        "      suma = suma + R #comenzamos a calcular a Z\n",
        "    X=m+o*(suma - 6) #calculamos a X\n",
        "    lista.append(X)\n",
        "  return lista\n"
      ],
      "metadata": {
        "id": "SCh4UYVo6y9u"
      },
      "execution_count": 44,
      "outputs": []
    },
    {
      "cell_type": "code",
      "source": [
        "resultado=metodo(1000)\n"
      ],
      "metadata": {
        "id": "v6neDqgV7swn"
      },
      "execution_count": 45,
      "outputs": []
    },
    {
      "cell_type": "markdown",
      "source": [
        "Graficamos el histograma para visualizar la distribucion de los datos.\n"
      ],
      "metadata": {
        "id": "tcPTFBY4G4AK"
      }
    },
    {
      "cell_type": "code",
      "source": [
        "plt.hist(resultado, bins=30)\n",
        "plt.show()"
      ],
      "metadata": {
        "colab": {
          "base_uri": "https://localhost:8080/",
          "height": 430
        },
        "id": "YLRJUMCA92Se",
        "outputId": "3db6cb8d-0b30-48fd-ab1f-aac2028d556a"
      },
      "execution_count": 46,
      "outputs": [
        {
          "output_type": "display_data",
          "data": {
            "text/plain": [
              "<Figure size 640x480 with 1 Axes>"
            ],
            "image/png": "[encoded data removed]"
          },
          "metadata": {}
        }
      ]
    },
    {
      "cell_type": "code",
      "source": [
        "media = np.mean(resultado)\n",
        "print(media)"
      ],
      "metadata": {
        "colab": {
          "base_uri": "https://localhost:8080/"
        },
        "id": "flFmAMJR-BqF",
        "outputId": "f5ff078b-0e1f-456a-ff8e-6e91edc7687a"
      },
      "execution_count": 47,
      "outputs": [
        {
          "output_type": "stream",
          "name": "stdout",
          "text": [
            "6.05183280587819\n"
          ]
        }
      ]
    },
    {
      "cell_type": "code",
      "source": [
        "varianza = np.var(resultado)\n",
        "print(varianza)"
      ],
      "metadata": {
        "colab": {
          "base_uri": "https://localhost:8080/"
        },
        "id": "P_m9PEkM-D3l",
        "outputId": "88095aed-87be-4fcd-9655-288e22910ea5"
      },
      "execution_count": 48,
      "outputs": [
        {
          "output_type": "stream",
          "name": "stdout",
          "text": [
            "9.108020584848028\n"
          ]
        }
      ]
    }
  ]
}