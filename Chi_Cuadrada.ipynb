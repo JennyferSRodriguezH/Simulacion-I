{
  "nbformat": 4,
  "nbformat_minor": 0,
  "metadata": {
    "colab": {
      "provenance": [],
      "authorship_tag": "ABX9TyN0GL4bVFAr2XtuDRCmMU5y",
      "include_colab_link": true
    },
    "kernelspec": {
      "name": "python3",
      "display_name": "Python 3"
    },
    "language_info": {
      "name": "python"
    }
  },
  "cells": [
    {
      "cell_type": "markdown",
      "metadata": {
        "id": "view-in-github",
        "colab_type": "text"
      },
      "source": [
        "<a href=\"https://colab.research.google.com/github/JennyferSRodriguezH/Simulacion-I/blob/main/Chi_Cuadrada.ipynb\" target=\"_parent\"><img src=\"https://colab.research.google.com/assets/colab-badge.svg\" alt=\"Open In Colab\"/></a>"
      ]
    },
    {
      "cell_type": "markdown",
      "source": [
        " Implementaremos la Prueba de Forma Chi-Cuadrada para números aleatorios, esto con el fin de que los datos sigan una distribucon uniforme  para este ejercicio utilizaremos los datos del ejercicio visto en clase.\n"
      ],
      "metadata": {
        "id": "wIPUZHGzAsCg"
      }
    },
    {
      "cell_type": "code",
      "execution_count": 5,
      "metadata": {
        "colab": {
          "base_uri": "https://localhost:8080/"
        },
        "id": "BTSIEHO5ASXr",
        "outputId": "55bb85da-10ab-47b6-e48d-b2f14b36b9f4"
      },
      "outputs": [
        {
          "output_type": "stream",
          "name": "stdout",
          "text": [
            "+--------------+------------------------+-----------------------+-----------------+\n",
            "| Intervalo    |   Frecuencia Observada |   Frecuencia Esperada |   Chi-cuadrado  |\n",
            "+==============+========================+=======================+=================+\n",
            "| [0.00, 0.20] |                      7 |                     5 |             0.8 |\n",
            "+--------------+------------------------+-----------------------+-----------------+\n",
            "| [0.20, 0.40] |                      3 |                     5 |             0.8 |\n",
            "+--------------+------------------------+-----------------------+-----------------+\n",
            "| [0.40, 0.60] |                      9 |                     5 |             3.2 |\n",
            "+--------------+------------------------+-----------------------+-----------------+\n",
            "| [0.60, 0.80] |                      3 |                     5 |             0.8 |\n",
            "+--------------+------------------------+-----------------------+-----------------+\n",
            "| [0.80, 1.00] |                      3 |                     5 |             0.8 |\n",
            "+--------------+------------------------+-----------------------+-----------------+\n",
            "\n",
            "Valor de Chi-cuadrado: 6.4000\n",
            "Valor crítico de Chi-cuadrado con α=0.05: 9.4877\n",
            "Se acepta la hipótesis de uniformidad.\n"
          ]
        }
      ],
      "source": [
        "import numpy as np\n",
        "import scipy.stats as stats\n",
        "from tabulate import tabulate\n",
        "\n",
        "# Datos de la matriz\n",
        "muestra = np.array([\n",
        "    [0.048, 0.591, 0.478, 0.166, 0.932],\n",
        "    [0.926, 0.007, 0.551, 0.362, 0.533],\n",
        "    [0.368, 0.437, 0.178, 0.411, 0.545],\n",
        "    [0.787, 0.594, 0.086, 0.951, 0.772],\n",
        "    [0.298, 0.199, 0.157, 0.401, 0.631]\n",
        "])\n",
        "\n",
        "\n",
        "num = muestra.flatten() #convertimos nuestra matriz de 5x5 en un solo\n",
        "#array de una sola dimension\n",
        "\n",
        "# Definimos los intervalos\n",
        "k = 5  # Número de intervalos\n",
        "inter = np.linspace(0, 1, k+1)  # Creamos los intervalos de 0 a 1\n",
        "freqs, _ = np.histogram(num, inter)\n",
        "\n",
        "# Calculamos la frecuencia esperada\n",
        "n = len(num)  # Número total de valores\n",
        "F_espe = n / k  # Frecuencia esperada en cada intervalo\n",
        "\n",
        "# Calcular la estadística de Chi-cuadrado\n",
        "chi = np.sum((freqs - F_espe)**2 /F_espe)\n",
        "\n",
        "# Obtener el valor crítico de Chi-cuadrado\n",
        "alpha = 0.05\n",
        "df = k - 1  # Grados de libertad\n",
        "chi_H = stats.chi2.ppf(1 - alpha, df)# lo implementamos para obtener el vaor critico\n",
        "\n",
        "# Mostramos la tabla\n",
        "tabla_muestra = []\n",
        "for i in range(k):\n",
        "    tabla_muestra.append([\n",
        "        f\"[{inter[i]:.2f}, {inter[i+1]:.2f}]\",\n",
        "        freqs[i],\n",
        "        F_espe,\n",
        "        (freqs[i] - F_espe)**2 / F_espe\n",
        "    ])\n",
        "\n",
        "headers = [\"Intervalo\", \"Frecuencia Observada\", \"Frecuencia Esperada\", \"Chi-cuadrado \"]\n",
        "print(tabulate(tabla_muestra, headers=headers, tablefmt=\"grid\"))\n",
        "\n",
        "# Imprimimos el resultado final\n",
        "print(f\"\\nValor de Chi-cuadrado: {chi:.4f}\")\n",
        "print(f\"Valor crítico de Chi-cuadrado con α={alpha}: {chi_H:.4f}\")\n",
        "\n",
        "# Determinamos la hipotesis\n",
        "if chi < chi_H:\n",
        "    print(\"Se acepta la hipótesis de uniformidad.\")\n",
        "else:\n",
        "    print(\"Se rechaza la hipótesis de uniformidad.\")\n"
      ]
    }
  ]
}