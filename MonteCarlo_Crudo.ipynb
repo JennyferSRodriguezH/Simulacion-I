{
  "nbformat": 4,
  "nbformat_minor": 0,
  "metadata": {
    "colab": {
      "provenance": [],
      "authorship_tag": "ABX9TyOZ/GJRUvABCwaanpCJzCA6",
      "include_colab_link": true
    },
    "kernelspec": {
      "name": "python3",
      "display_name": "Python 3"
    },
    "language_info": {
      "name": "python"
    }
  },
  "cells": [
    {
      "cell_type": "markdown",
      "metadata": {
        "id": "view-in-github",
        "colab_type": "text"
      },
      "source": [
        "<a href=\"https://colab.research.google.com/github/JennyferSRodriguezH/Simulacion-I/blob/main/MonteCarlo_Crudo.ipynb\" target=\"_parent\"><img src=\"https://colab.research.google.com/assets/colab-badge.svg\" alt=\"Open In Colab\"/></a>"
      ]
    },
    {
      "cell_type": "markdown",
      "source": [
        "Uso del Metodo de Montecarlo Crudo para la función $\\sqrt{tan^{-1} (x)} $"
      ],
      "metadata": {
        "id": "2WVijv5mwmL5"
      }
    },
    {
      "cell_type": "code",
      "execution_count": 48,
      "metadata": {
        "colab": {
          "base_uri": "https://localhost:8080/"
        },
        "id": "GRCr2GsznUOq",
        "outputId": "9e0b111a-5a8c-4adc-ee86-3ce76fd55fb4"
      },
      "outputs": [
        {
          "output_type": "stream",
          "name": "stdout",
          "text": [
            "Valor numerico de la integral y su eror:  (0.6298233442079734, 3.482769628249116e-13)\n",
            "Por el metodo de MC Crudo, tenemos:  (np.float64(0.6297011371820725),)\n"
          ]
        }
      ],
      "source": [
        "import matplotlib.pyplot as plt\n",
        "import numpy as np\n",
        "import random as rd\n",
        "from scipy.integrate import quad\n",
        "\n",
        "# Definimos la función\n",
        "def integrand(x):\n",
        "    return np.sqrt(np.arctan(x))\n",
        "print(\"Valor numerico de la integral y su eror: \", quad(integrand,0,1))\n",
        "\n",
        "\n",
        "#Creamos la funcion de montecarlo\n",
        "def montecarlo(n):\n",
        "  suma = 0\n",
        "  valores = [] #iniciamos una lsta para agregar los valores obtenidos\n",
        "  for i in range(n):\n",
        "     Un = np.random.uniform(0,1,n) #valores aleatorios dentro del intervalo\n",
        "     valores.append( integrand(Un))   #evaluamos los valores aleatorios y calculamos\n",
        "\n",
        "  #Calculamos el error\n",
        "  error = np.std(valores)/np.sqrt(n)# Erros usando la desviacion estandar\n",
        "  promedio = np.mean(valores)\n",
        "  funcion_g = promedio\n",
        "\n",
        "  return funcion_g ,\n",
        "\n",
        "print(\"Por el metodo de MC Crudo, tenemos: \", montecarlo(1000))\n",
        "n=1000\n",
        "\n",
        "#Calculamos el error"
      ]
    }
  ]
}