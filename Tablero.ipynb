{
  "nbformat": 4,
  "nbformat_minor": 0,
  "metadata": {
    "colab": {
      "provenance": [],
      "authorship_tag": "ABX9TyOICZCL2/T/NMl70dxwJ9SY",
      "include_colab_link": true
    },
    "kernelspec": {
      "name": "python3",
      "display_name": "Python 3"
    },
    "language_info": {
      "name": "python"
    }
  },
  "cells": [
    {
      "cell_type": "markdown",
      "metadata": {
        "id": "view-in-github",
        "colab_type": "text"
      },
      "source": [
        "<a href=\"https://colab.research.google.com/github/JennyferSRodriguezH/Simulacion-I/blob/main/Tablero.ipynb\" target=\"_parent\"><img src=\"https://colab.research.google.com/assets/colab-badge.svg\" alt=\"Open In Colab\"/></a>"
      ]
    },
    {
      "cell_type": "code",
      "source": [
        "import numpy as np\n",
        "import matplotlib.pyplot as plt"
      ],
      "metadata": {
        "id": "TqDlYQeQMTmv"
      },
      "execution_count": 1,
      "outputs": []
    },
    {
      "cell_type": "code",
      "source": [
        "def movimientos(n_pasos):\n",
        "\n",
        "  n_partes=4 #partes divididas del circulo\n",
        "  posc_actual = 0 # empezamos en la pos cero que es en el verde\n",
        "  conteo = np.zeros(n_partes, dtype=int)\n",
        "  #nos servira para saber el # de veces que caemos en el cada color\n",
        "\n",
        "  for i in range(n_pasos):\n",
        "    moneda_1 = np.random.choice([0,1])\n",
        "    moneda_2 = np.random.choice([0,1])\n",
        "    #con choice simulamos lo del lanzamiento de una moneda teniendo solo dos valores\n",
        "\n",
        "    avance = moneda_1 + moneda_2\n",
        "    posc_actual = (posc_actual + avance ) % 4 #movimiento en el circulo\n",
        "    conteo[posc_actual] +=1  #sumamos a cada visita a ese sector\n",
        "\n",
        "  frecuencia = conteo/ np.sum(conteo) # lo convertimos a una frecuencia que nos ayuda a poder observar el # de veces que cae en un color\n",
        "  return frecuencia"
      ],
      "metadata": {
        "id": "lyy9IxCEMZcs"
      },
      "execution_count": 35,
      "outputs": []
    },
    {
      "cell_type": "code",
      "source": [
        "n_pasos = 13 # num de veces que vamos a simularla\n",
        "resultado= movimientos(n_pasos)\n",
        "#print('Frecuencias:', resultado)\n",
        "print(\"Frecuencias:\", np.round(resultado, 5))"
      ],
      "metadata": {
        "colab": {
          "base_uri": "https://localhost:8080/"
        },
        "id": "FOa2cD5AOpW2",
        "outputId": "fc296329-92f6-4289-c90b-80a859269117"
      },
      "execution_count": 46,
      "outputs": [
        {
          "output_type": "stream",
          "name": "stdout",
          "text": [
            "Frecuencias: [0.23077 0.30769 0.23077 0.23077]\n"
          ]
        }
      ]
    },
    {
      "cell_type": "markdown",
      "source": [
        "**¿Son todos los sectores igual de probablies cuando pase mucho tiempo?**\n",
        "\n",
        "Para una n_vez = 13 de pocas repeticiones, podemos ver que la probabilidad de caer en cada sector va a variar mucho debido a la aleatoriedad.\n",
        "\n",
        "Sin embargo, para n_veces=100 000  las probabilidades van de acuerdo con la ley de los grandes numeros, donde al hacer muchos experimentos las frecuencias se estabilizan y reflejan la verdadera probabilidad.\n"
      ],
      "metadata": {
        "id": "y4OI1gGXejBY"
      }
    },
    {
      "cell_type": "code",
      "source": [
        "# Graficar resultados\n",
        "colores = ['green', 'red', 'blue', 'yellow']\n",
        "plt.figure(figsize=(8, 5))\n",
        "plt.bar(colores, resultado, color=colores)\n",
        "plt.title(\"Frecuencia relativa de visitas a cada sector del círculo\")\n",
        "plt.ylabel(\"Frecuencia\")\n",
        "plt.xlabel(\"Color/Sector\")\n",
        "plt.ylim(0, 1)\n",
        "plt.grid(axis='y', linestyle='--', alpha=0.7)\n",
        "plt.show()"
      ],
      "metadata": {
        "colab": {
          "base_uri": "https://localhost:8080/",
          "height": 487
        },
        "id": "EY00E6xMRhtr",
        "outputId": "3b1a7b12-229b-4a87-f929-ce1e3f11ddee"
      },
      "execution_count": 47,
      "outputs": [
        {
          "output_type": "display_data",
          "data": {
            "text/plain": [
              "<Figure size 800x500 with 1 Axes>"
            ],
            "image/png": "[encoded data removed]"
          },
          "metadata": {}
        }
      ]
    },
    {
      "cell_type": "markdown",
      "source": [
        "# Parte Analitica"
      ],
      "metadata": {
        "id": "ks7MB74-X3M4"
      }
    },
    {
      "cell_type": "markdown",
      "source": [
        "En este ejercico el teorema de Probabilidad Condicional esta ligeramente implicto al construir el modelo. Es decir, se usa este teorema en el aspecto de *Si estoy en i posicion/sector , ¿cual es la probabilidad de estar en j?*.\n",
        "\n",
        "Y conocemos que las probabilidades son:\n",
        "$ CC = \\frac{1}{4}$ \\\\\n",
        "$CX = \\frac{1}{2}$ \\\\\n",
        "$XC = \\frac{1}{2}$ \\\\\n",
        "$XX = \\frac{1}{4}$ \\\\\n",
        "\n",
        "Entonces para n=2 podriamos tener el siguiente sistema tomando en cuenta que estamos en Naranja:\n",
        "\n",
        "$X_2 = \\frac{1}{4} x_1 + 0 y_1 + \\frac{1}{4} z_1 + \\frac{2}{4} t_1$ \\\\\n",
        "\n",
        "\n",
        "$Y_2 = \\frac{2}{4} x_1 + \\frac{1}{4} y_1 + 0 z_1 + \\frac{1}{4} t_1 $ \\\\\n",
        "\n",
        "\n",
        "$Z_2 = \\frac{1}{4} x_1 + \\frac{2}{4} y_1 + \\frac{1}{4} z_1 + 0 t_1 $ \\\\\n",
        "\n",
        "\n",
        "$t_2 = 0 x_1 + \\frac{1}{4} y_1 + \\frac{2}{4} z_1 + \\frac{1}{4} t_1 $ \\\\\n",
        "\n",
        "En general, podemos obtener una matriz de la siguiente forma: \\\\\n",
        "\n",
        "\\begin{pmatrix}\n",
        "\\frac{1}{4} & 0 & \\frac{1}{4} & \\frac{2}{4} \\\\\n",
        "\\frac{2}{4} & \\frac{1}{4} & 0 & \\frac{1}{4} \\\\\n",
        "\\frac{1}{4} & \\frac{2}{4} & \\frac{1}{4} & 0 \\\\\n",
        "0 & \\frac{1}{4} & \\frac{2}{4}  & \\frac{1}{4}\n",
        "\\end{pmatrix}\n",
        "\n",
        "Donde la suma de cada uno de los elementos es 1 y nos representa que es una distribucion valida cumpliendo con la propiedad de las distribuciones de probabilidad.\n",
        "\n",
        "\n"
      ],
      "metadata": {
        "id": "2otBUz6fX6B4"
      }
    }
  ]
}