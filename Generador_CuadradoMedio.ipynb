{
  "nbformat": 4,
  "nbformat_minor": 0,
  "metadata": {
    "colab": {
      "provenance": [],
      "authorship_tag": "ABX9TyMCkRwZooTZmO6zdNNHilNw",
      "include_colab_link": true
    },
    "kernelspec": {
      "name": "python3",
      "display_name": "Python 3"
    },
    "language_info": {
      "name": "python"
    }
  },
  "cells": [
    {
      "cell_type": "markdown",
      "metadata": {
        "id": "view-in-github",
        "colab_type": "text"
      },
      "source": [
        "<a href=\"https://colab.research.google.com/github/JennyferSRodriguezH/Simulacion-I/blob/main/Generador_CuadradoMedio.ipynb\" target=\"_parent\"><img src=\"https://colab.research.google.com/assets/colab-badge.svg\" alt=\"Open In Colab\"/></a>"
      ]
    },
    {
      "cell_type": "markdown",
      "source": [
        "Programar el generador de cuadrado medio"
      ],
      "metadata": {
        "id": "olyejQLnc70w"
      }
    },
    {
      "cell_type": "code",
      "source": [
        "\n",
        "#\n",
        "# x0 = es el valor inicial o nuestra semilla\n",
        "# m = nuestro modulo\n",
        "\n",
        "\n",
        "\n",
        "def generador_cuadrado_medio(x0, m):\n",
        "\n",
        "    numeros_aleatorios = []\n",
        "    num = x0\n",
        "\n",
        "    for _ in range(cantidad):\n",
        "        cuadrado = num ** 2\n",
        "         # Convertimos el cuadrado a una cadena y extraemos la parte central\n",
        "        cuadrado_str = str(cuadrado).zfill(8)  # Asegura que tenga 8 dígitos\n",
        "        mitad = len(cuadrado_str) // 2\n",
        "        num = int(cuadrado_str[mitad-2:mitad+2])  # Toma 4 dígitos del centro\n",
        "\n",
        "        # Lo agregamos a la lista\n",
        "        numeros_aleatorios.append(num)\n",
        "    return numeros_aleatorios\n",
        "\n",
        "#Ejemplo\n",
        "x0 = 1234\n",
        "m = 10\n",
        "resultados = generador_cuadrado_medio(x0, m)\n",
        "\n",
        "print(\"Números generados:\", resultados)"
      ],
      "metadata": {
        "colab": {
          "base_uri": "https://localhost:8080/"
        },
        "id": "NLypinINhSs2",
        "outputId": "d17c1e27-7777-48ae-85da-0e114b3c966e"
      },
      "execution_count": 18,
      "outputs": [
        {
          "output_type": "stream",
          "name": "stdout",
          "text": [
            "Números generados: [5227, 3215, 3362, 3030, 1809, 2724, 4201, 6484, 422, 1780]\n"
          ]
        }
      ]
    },
    {
      "cell_type": "code",
      "source": [
        "\n",
        "\n",
        "#\n",
        "# x0 = es el valor inicial o nuestra semilla\n",
        "# m = nuestro modulo\n",
        "\n",
        "from tabulate import tabulate\n",
        "\n",
        "def cuadrado_medio(x0, m):\n",
        "    numeros_aleatorios = []\n",
        "    num = x0\n",
        "    ciclo_vida = []\n",
        "\n",
        "    for i in range(1, cantidad + 1):\n",
        "        cuadrado = num ** 2 #lo elevamos al cuadrado\n",
        "        cuadrado_str = str(cuadrado) #lo convertimos en una cadena\n",
        "        longitud = len(cuadrado_str) #calculamos la longitud de la cadena\n",
        "\n",
        "        # Definimos cuántos dígitos tomar del centro\n",
        "        #esto depende de nuestra semilla original\n",
        "        digitos_centrales = 4\n",
        "        mitad = longitud // 2\n",
        "\n",
        "        #Incluimos un ciclo para trabajar con los numeros del centro\n",
        "        if longitud < digitos_centrales * 2:\n",
        "            num = int(cuadrado_str)  # Si el número tiene menos de 8 dígitos, usamos todo el número\n",
        "        else:\n",
        "            num = int(cuadrado_str[mitad - 2 : mitad + 2])  # Tomamos 4 dígitos centrales\n",
        "         # Normalización del número que generamos con los anteriores ciclos\n",
        "        num_normalizado = num / 10000  # Asumimos una normalización entre 0 y 1\n",
        "\n",
        "        # Agrega el número generado, su versión normalizada y la iteración\n",
        "        ciclo_vida.append([i, num, cuadrado, num_normalizado])\n",
        "\n",
        "    return ciclo_vida, numeros_aleatorios\n",
        "\n",
        "# Función para imprimir el ciclo de vida de la semilla y los números generados\n",
        "def imprimir_ciclo_vida(ciclo_vida):\n",
        "    # Imprimir la tabla usando tabulate\n",
        "    headers = [\"Iteración\", \"Número\", \"Cuadrado\", \"Número Normalizado\"]\n",
        "    print(tabulate(ciclo_vida, headers=headers, tablefmt=\"grid\"))\n",
        "\n",
        "\n",
        "\n",
        "# Usamos el ejemplo anterior\n",
        "x0 = 1234\n",
        "m = 10\n",
        "ciclo_vida, resultados = cuadrado_medio(x0, m)\n",
        "\n",
        "# Imprimir la tabla con los resultados\n",
        "print(\"Ciclo de vida de la semilla:\")\n",
        "imprimir_ciclo_vida(ciclo_vida)"
      ],
      "metadata": {
        "id": "4lnNh2PJrUAm",
        "colab": {
          "base_uri": "https://localhost:8080/"
        },
        "outputId": "92e56900-550f-41c5-8f8e-5f60134bf3ec"
      },
      "execution_count": 19,
      "outputs": [
        {
          "output_type": "stream",
          "name": "stdout",
          "text": [
            "Ciclo de vida de la semilla:\n",
            "+-------------+----------+----------------+----------------------+\n",
            "|   Iteración |   Número |       Cuadrado |   Número Normalizado |\n",
            "+=============+==========+================+======================+\n",
            "|           1 |  1522756 |        1522756 |             152.276  |\n",
            "+-------------+----------+----------------+----------------------+\n",
            "|           2 |     7858 |  2318785835536 |               0.7858 |\n",
            "+-------------+----------+----------------+----------------------+\n",
            "|           3 |     7481 |       61748164 |               0.7481 |\n",
            "+-------------+----------+----------------+----------------------+\n",
            "|           4 |     9653 |       55965361 |               0.9653 |\n",
            "+-------------+----------+----------------+----------------------+\n",
            "|           5 |     1804 |       93180409 |               0.1804 |\n",
            "+-------------+----------+----------------+----------------------+\n",
            "|           6 |  3254416 |        3254416 |             325.442  |\n",
            "+-------------+----------+----------------+----------------------+\n",
            "|           7 |     2235 | 10591223501056 |               0.2235 |\n",
            "+-------------+----------+----------------+----------------------+\n",
            "|           8 |  4995225 |        4995225 |             499.522  |\n",
            "+-------------+----------+----------------+----------------------+\n",
            "|           9 |     2728 | 24952272800625 |               0.2728 |\n",
            "+-------------+----------+----------------+----------------------+\n",
            "|          10 |  7441984 |        7441984 |             744.198  |\n",
            "+-------------+----------+----------------+----------------------+\n"
          ]
        }
      ]
    }
  ]
}