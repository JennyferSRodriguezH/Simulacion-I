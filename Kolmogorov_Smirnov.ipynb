{
  "nbformat": 4,
  "nbformat_minor": 0,
  "metadata": {
    "colab": {
      "provenance": [],
      "authorship_tag": "ABX9TyMTifdv2+s3Kv+K+Vb0lhsE",
      "include_colab_link": true
    },
    "kernelspec": {
      "name": "python3",
      "display_name": "Python 3"
    },
    "language_info": {
      "name": "python"
    }
  },
  "cells": [
    {
      "cell_type": "markdown",
      "metadata": {
        "id": "view-in-github",
        "colab_type": "text"
      },
      "source": [
        "<a href=\"https://colab.research.google.com/github/JennyferSRodriguezH/Simulacion-I/blob/main/Kolmogorov_Smirnov.ipynb\" target=\"_parent\"><img src=\"https://colab.research.google.com/assets/colab-badge.svg\" alt=\"Open In Colab\"/></a>"
      ]
    },
    {
      "cell_type": "markdown",
      "source": [
        "Implemente la Prueba de Kolmogorov-Smirnov para números aleatorios. Como pruebe, use los datos del ejercicio realizado en la clase correspondiente.\n"
      ],
      "metadata": {
        "id": "5ZNi_UKTjEMV"
      }
    },
    {
      "cell_type": "code",
      "execution_count": 3,
      "metadata": {
        "colab": {
          "base_uri": "https://localhost:8080/"
        },
        "id": "NL3TFs3RFOL7",
        "outputId": "e541480c-6763-4423-c3aa-355682519aa9"
      },
      "outputs": [
        {
          "output_type": "stream",
          "name": "stdout",
          "text": [
            "\n",
            "Tabla de la prueba KS:\n",
            "+-----+--------+---------+---------+-------------------+\n",
            "|   i |   Dato |   F_Emp |   F_Teo |   |F_Emp - F_Teo| |\n",
            "+=====+========+=========+=========+===================+\n",
            "|   1 |  0.007 |    0.04 |   0.007 |             0.033 |\n",
            "+-----+--------+---------+---------+-------------------+\n",
            "|   2 |  0.048 |    0.08 |   0.048 |             0.032 |\n",
            "+-----+--------+---------+---------+-------------------+\n",
            "|   3 |  0.086 |    0.12 |   0.086 |             0.034 |\n",
            "+-----+--------+---------+---------+-------------------+\n",
            "|   4 |  0.157 |    0.16 |   0.157 |             0.003 |\n",
            "+-----+--------+---------+---------+-------------------+\n",
            "|   5 |  0.166 |    0.2  |   0.166 |             0.034 |\n",
            "+-----+--------+---------+---------+-------------------+\n",
            "|   6 |  0.178 |    0.24 |   0.178 |             0.062 |\n",
            "+-----+--------+---------+---------+-------------------+\n",
            "|   7 |  0.199 |    0.28 |   0.199 |             0.081 |\n",
            "+-----+--------+---------+---------+-------------------+\n",
            "|   8 |  0.298 |    0.32 |   0.298 |             0.022 |\n",
            "+-----+--------+---------+---------+-------------------+\n",
            "|   9 |  0.362 |    0.36 |   0.362 |             0.002 |\n",
            "+-----+--------+---------+---------+-------------------+\n",
            "|  10 |  0.368 |    0.4  |   0.368 |             0.032 |\n",
            "+-----+--------+---------+---------+-------------------+\n",
            "|  11 |  0.401 |    0.44 |   0.401 |             0.039 |\n",
            "+-----+--------+---------+---------+-------------------+\n",
            "|  12 |  0.411 |    0.48 |   0.411 |             0.069 |\n",
            "+-----+--------+---------+---------+-------------------+\n",
            "|  13 |  0.437 |    0.52 |   0.437 |             0.083 |\n",
            "+-----+--------+---------+---------+-------------------+\n",
            "|  14 |  0.478 |    0.56 |   0.478 |             0.082 |\n",
            "+-----+--------+---------+---------+-------------------+\n",
            "|  15 |  0.533 |    0.6  |   0.533 |             0.067 |\n",
            "+-----+--------+---------+---------+-------------------+\n",
            "|  16 |  0.545 |    0.64 |   0.545 |             0.095 |\n",
            "+-----+--------+---------+---------+-------------------+\n",
            "|  17 |  0.551 |    0.68 |   0.551 |             0.129 |\n",
            "+-----+--------+---------+---------+-------------------+\n",
            "|  18 |  0.591 |    0.72 |   0.591 |             0.129 |\n",
            "+-----+--------+---------+---------+-------------------+\n",
            "|  19 |  0.594 |    0.76 |   0.594 |             0.166 |\n",
            "+-----+--------+---------+---------+-------------------+\n",
            "|  20 |  0.631 |    0.8  |   0.631 |             0.169 |\n",
            "+-----+--------+---------+---------+-------------------+\n",
            "|  21 |  0.772 |    0.84 |   0.772 |             0.068 |\n",
            "+-----+--------+---------+---------+-------------------+\n",
            "|  22 |  0.787 |    0.88 |   0.787 |             0.093 |\n",
            "+-----+--------+---------+---------+-------------------+\n",
            "|  23 |  0.926 |    0.92 |   0.926 |             0.006 |\n",
            "+-----+--------+---------+---------+-------------------+\n",
            "|  24 |  0.932 |    0.96 |   0.932 |             0.028 |\n",
            "+-----+--------+---------+---------+-------------------+\n",
            "|  25 |  0.951 |    1    |   0.951 |             0.049 |\n",
            "+-----+--------+---------+---------+-------------------+\n",
            "\n",
            "Estadístico de Kolmogorov-Smirnov: 0.1690\n",
            "Valor crítico para alpha = 0.05: 0.2720\n",
            "No se rechaza la hipótesis nula\n"
          ]
        }
      ],
      "source": [
        "import numpy as np\n",
        "import scipy.stats as stats\n",
        "from tabulate import tabulate\n",
        "\n",
        "# Datos de la clase\n",
        "muestra= np.array([\n",
        "    [0.048, 0.591, 0.478, 0.166, 0.932],\n",
        "    [0.926, 0.007, 0.551, 0.362, 0.533],\n",
        "    [0.368, 0.437, 0.178, 0.411, 0.545],\n",
        "    [0.787, 0.594, 0.086, 0.951, 0.772],\n",
        "    [0.298, 0.199, 0.157, 0.401, 0.631]\n",
        "])\n",
        "\n",
        "# Convertir la matriz en un array 1D\n",
        "datos = muestra.flatten()\n",
        "\n",
        "# Ordenar los datos\n",
        "datos.sort()\n",
        "n = len(datos)  # Calculamos el Número total de datos\n",
        "\n",
        "# Calcular la función de distribución empírica\n",
        "F_emp = np.arange(1, n + 1) / n  # F_n(x) = i/n\n",
        "\n",
        "# Calcular la función de distribución teórica\n",
        "F_t = datos  # En una uniforme, F(x) = x\n",
        "\n",
        "# Estadístico de Kolmogorov\n",
        "D_n = np.max(np.abs(F_emp - F_t))\n",
        "\n",
        "# Valor crítico de la prueba KS para alpha = 0.05\n",
        "alpha = 0.05\n",
        "D_critico = 1.36 / np.sqrt(n)  # Fórmula estándar para KS\n",
        "\n",
        "# Crear tabla con los valores calculados\n",
        "resultados = []\n",
        "for i in range(n):\n",
        "    resultados.append([i+1, datos[i], F_emp[i], F_t[i], abs(F_emp[i] - F_t[i])])\n",
        "\n",
        "# Imprimir tabla de valores\n",
        "print(\"\\nTabla de la prueba KS:\")\n",
        "print(tabulate(resultados, headers=[\"i\", \"Dato\", \"F_Emp\", \"F_Teo\", \"|F_Emp - F_Teo|\"], tablefmt=\"grid\"))\n",
        "\n",
        "# Imprimir resultados finales\n",
        "print(f\"\\nEstadístico de Kolmogorov-Smirnov: {D_n:.4f}\")\n",
        "print(f\"Valor crítico para alpha = 0.05: {D_critico:.4f}\")\n",
        "\n",
        "# Evaluamos si rechazamos o no la hipótesis\n",
        "if D_n < D_critico:\n",
        "    print(\"No se rechaza la hipótesis nula\")\n",
        "else:\n",
        "    print(\"Se rechaza la hipótesis nula\")\n"
      ]
    }
  ]
}